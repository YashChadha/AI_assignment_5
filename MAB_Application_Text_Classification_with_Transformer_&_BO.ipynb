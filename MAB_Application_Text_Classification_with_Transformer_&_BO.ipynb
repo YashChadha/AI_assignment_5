{
  "cells": [
    {
      "cell_type": "markdown",
      "metadata": {
        "id": "view-in-github",
        "colab_type": "text"
      },
      "source": [
        "<a href=\"https://colab.research.google.com/github/YashChadha/AI_assignment_5/blob/main/MAB_Application_Text_Classification_with_Transformer_%26_BO.ipynb\" target=\"_parent\"><img src=\"https://colab.research.google.com/assets/colab-badge.svg\" alt=\"Open In Colab\"/></a>"
      ]
    },
    {
      "cell_type": "markdown",
      "metadata": {
        "id": "kg3GVbuVKzk2"
      },
      "source": [
        "Runtime --> Change runtime type --> GPU"
      ]
    },
    {
      "cell_type": "code",
      "execution_count": null,
      "metadata": {
        "colab": {
          "base_uri": "https://localhost:8080/"
        },
        "id": "d4PYsk86mJLs",
        "outputId": "66c2a0e7-490d-481e-b696-318a0e179904"
      },
      "outputs": [
        {
          "name": "stdout",
          "output_type": "stream",
          "text": [
            "Wed Apr 19 15:56:48 2023       \n",
            "+-----------------------------------------------------------------------------+\n",
            "| NVIDIA-SMI 525.85.12    Driver Version: 525.85.12    CUDA Version: 12.0     |\n",
            "|-------------------------------+----------------------+----------------------+\n",
            "| GPU  Name        Persistence-M| Bus-Id        Disp.A | Volatile Uncorr. ECC |\n",
            "| Fan  Temp  Perf  Pwr:Usage/Cap|         Memory-Usage | GPU-Util  Compute M. |\n",
            "|                               |                      |               MIG M. |\n",
            "|===============================+======================+======================|\n",
            "|   0  Tesla T4            Off  | 00000000:00:04.0 Off |                    0 |\n",
            "| N/A   50C    P8    10W /  70W |      0MiB / 15360MiB |      0%      Default |\n",
            "|                               |                      |                  N/A |\n",
            "+-------------------------------+----------------------+----------------------+\n",
            "                                                                               \n",
            "+-----------------------------------------------------------------------------+\n",
            "| Processes:                                                                  |\n",
            "|  GPU   GI   CI        PID   Type   Process name                  GPU Memory |\n",
            "|        ID   ID                                                   Usage      |\n",
            "|=============================================================================|\n",
            "|  No running processes found                                                 |\n",
            "+-----------------------------------------------------------------------------+\n"
          ]
        }
      ],
      "source": [
        "!nvidia-smi"
      ]
    },
    {
      "cell_type": "markdown",
      "metadata": {
        "id": "W44B_ETWwJhB"
      },
      "source": [
        "# Recall the Sarcasm Detection Task"
      ]
    },
    {
      "cell_type": "code",
      "execution_count": null,
      "metadata": {
        "id": "BJ08g2C2OrR_"
      },
      "outputs": [],
      "source": [
        "import json\n",
        "import numpy as np\n",
        "import tensorflow as tf\n",
        "\n",
        "from tensorflow.keras.preprocessing.text import Tokenizer\n",
        "from tensorflow.keras.preprocessing.sequence import pad_sequences"
      ]
    },
    {
      "cell_type": "code",
      "execution_count": null,
      "metadata": {
        "colab": {
          "base_uri": "https://localhost:8080/"
        },
        "id": "qSKqq2R2gpfy",
        "outputId": "6c818e30-5a32-4fb5-d2d9-a281132b15bc"
      },
      "outputs": [
        {
          "name": "stdout",
          "output_type": "stream",
          "text": [
            "--2023-04-19 15:56:53--  https://storage.googleapis.com/learning-datasets/sarcasm.json\n",
            "Resolving storage.googleapis.com (storage.googleapis.com)... 173.194.79.128, 108.177.127.128, 142.251.18.128, ...\n",
            "Connecting to storage.googleapis.com (storage.googleapis.com)|173.194.79.128|:443... connected.\n",
            "HTTP request sent, awaiting response... 200 OK\n",
            "Length: 5643545 (5.4M) [application/json]\n",
            "Saving to: ‘/tmp/sarcasm.json’\n",
            "\n",
            "/tmp/sarcasm.json   100%[===================>]   5.38M  18.6MB/s    in 0.3s    \n",
            "\n",
            "2023-04-19 15:56:54 (18.6 MB/s) - ‘/tmp/sarcasm.json’ saved [5643545/5643545]\n",
            "\n"
          ]
        }
      ],
      "source": [
        "!wget --no-check-certificate \\\n",
        "    https://storage.googleapis.com/learning-datasets/sarcasm.json \\\n",
        "    -O /tmp/sarcasm.json"
      ]
    },
    {
      "cell_type": "code",
      "execution_count": null,
      "metadata": {
        "id": "6Psr_XnFgyS1"
      },
      "outputs": [],
      "source": [
        "with open(\"/tmp/sarcasm.json\", 'r') as f:\n",
        "    datastore = json.load(f)\n",
        "\n",
        "sentences = []\n",
        "labels = []\n",
        "\n",
        "for item in datastore:\n",
        "    sentences.append(item['headline'])\n",
        "    labels.append(item['is_sarcastic'])"
      ]
    },
    {
      "cell_type": "code",
      "execution_count": null,
      "metadata": {
        "id": "AhxL5kTrg1S6"
      },
      "outputs": [],
      "source": [
        "vocab_size = 10000\n",
        "max_length = 100\n",
        "trunc_type='post'\n",
        "padding_type='post'\n",
        "oov_tok = \"<OOV>\"\n",
        "training_size = 20000\n",
        "\n",
        "training_sentences = sentences[0:training_size]\n",
        "testing_sentences = sentences[training_size:]\n",
        "training_labels = labels[0:training_size]\n",
        "testing_labels = labels[training_size:]\n",
        "\n",
        "tokenizer = Tokenizer(num_words=vocab_size, oov_token=oov_tok)\n",
        "tokenizer.fit_on_texts(training_sentences)\n",
        "\n",
        "word_index = tokenizer.word_index\n",
        "\n",
        "training_sequences = tokenizer.texts_to_sequences(training_sentences)\n",
        "training_padded = pad_sequences(training_sequences, maxlen=max_length, padding=padding_type, truncating=trunc_type)\n",
        "\n",
        "testing_sequences = tokenizer.texts_to_sequences(testing_sentences)\n",
        "testing_padded = pad_sequences(testing_sequences, maxlen=max_length, padding=padding_type, truncating=trunc_type)\n",
        "\n",
        "training_padded = np.array(training_padded)\n",
        "training_labels = np.array(training_labels)\n",
        "testing_padded = np.array(testing_padded)\n",
        "testing_labels = np.array(testing_labels)"
      ]
    },
    {
      "cell_type": "markdown",
      "metadata": {
        "id": "kuFzgb7-wWrX"
      },
      "source": [
        "In order to 'add up' the embeddings representing the individual words in a sentence we used a `tf.keras.layer` which simply takes the average. What if we use a more complex model with a greater potential for increased performance? A potential drawback of this model is the number of hyperparameters - how do we pick the best combination? \n",
        "\n",
        "Up until now we have been using a 'trial and error' approach with our hyperparameters. Let's try it again:"
      ]
    },
    {
      "cell_type": "code",
      "execution_count": null,
      "metadata": {
        "id": "4EI6alJhgk1b"
      },
      "outputs": [],
      "source": [
        "# Hyperparameters\n",
        "embedding_dim = 64\n",
        "att_heads = 8\n",
        "key_dim = 512\n",
        "dropout = 0.1\n",
        "batch_size = 128"
      ]
    },
    {
      "cell_type": "markdown",
      "metadata": {
        "id": "a42uk6EnxBiY"
      },
      "source": [
        "Under the hood, ChatGPT uses a Transformer-based architecture. But we're not doing sequence-to-sequence translation or text generation so we don't need both an encoder and a decoder. \n",
        "\n",
        "This classification model is based on an encoder for a Transformer model. The encoder is used to learn useful representations from the input and then these representations are uses to generate a prediction on $\\{0,1\\}$."
      ]
    },
    {
      "cell_type": "code",
      "execution_count": null,
      "metadata": {
        "id": "Yy0BJDgAOxG-"
      },
      "outputs": [],
      "source": [
        "# Note: up until now the examples have used the Sequential API; this is considered the Functional API. \n",
        "\n",
        "input = tf.keras.Input(shape=max_length, name=\"Input\")\n",
        "emb = tf.keras.layers.Embedding(\n",
        "    vocab_size, \n",
        "    embedding_dim, \n",
        "    input_length=max_length,\n",
        "    name='Embedding')(input)\n",
        "mhsa = tf.keras.layers.MultiHeadAttention(\n",
        "    num_heads=att_heads, \n",
        "    key_dim=key_dim,\n",
        "    name='MHA'\n",
        ")\n",
        "attn_out = mhsa(\n",
        "    query=emb,\n",
        "    value=emb,\n",
        "    key=emb\n",
        ")\n",
        "attn_out = tf.keras.layers.Add(name='MHA_Add')([emb, attn_out])\n",
        "attn_ln = tf.keras.layers.LayerNormalization(name='MHA_Norm')(attn_out)\n",
        "dl = tf.keras.layers.Dense(embedding_dim, activation='relu', name=\"FF\")(attn_ln)\n",
        "dl = tf.keras.layers.Dropout(dropout, name='Dropout_Hidden')(dl)\n",
        "dl_out = tf.keras.layers.Add(name='FF_Add')([attn_ln, dl])\n",
        "dl_ln = tf.keras.layers.LayerNormalization(name='FF_Norm')(dl_out)\n",
        "fltn = tf.keras.layers.Flatten(name='Flatten')(dl_ln)\n",
        "output = tf.keras.layers.Dense(1, activation='sigmoid', name='Predict')(fltn)"
      ]
    },
    {
      "cell_type": "code",
      "execution_count": null,
      "metadata": {
        "id": "R0ig-xUkQ_9l"
      },
      "outputs": [],
      "source": [
        "model = tf.keras.Model(inputs=input, outputs=output, name=\"My_Model\")"
      ]
    },
    {
      "cell_type": "code",
      "execution_count": null,
      "metadata": {
        "colab": {
          "base_uri": "https://localhost:8080/"
        },
        "id": "IryxkI-VSs13",
        "outputId": "d574e31c-f990-4d74-8e16-7c46e8eff536"
      },
      "outputs": [
        {
          "name": "stdout",
          "output_type": "stream",
          "text": [
            "Model: \"My_Model\"\n",
            "__________________________________________________________________________________________________\n",
            " Layer (type)                   Output Shape         Param #     Connected to                     \n",
            "==================================================================================================\n",
            " Input (InputLayer)             [(None, 100)]        0           []                               \n",
            "                                                                                                  \n",
            " Embedding (Embedding)          (None, 100, 64)      640000      ['Input[0][0]']                  \n",
            "                                                                                                  \n",
            " MHA (MultiHeadAttention)       (None, 100, 64)      1060928     ['Embedding[0][0]',              \n",
            "                                                                  'Embedding[0][0]',              \n",
            "                                                                  'Embedding[0][0]']              \n",
            "                                                                                                  \n",
            " MHA_Add (Add)                  (None, 100, 64)      0           ['Embedding[0][0]',              \n",
            "                                                                  'MHA[0][0]']                    \n",
            "                                                                                                  \n",
            " MHA_Norm (LayerNormalization)  (None, 100, 64)      128         ['MHA_Add[0][0]']                \n",
            "                                                                                                  \n",
            " FF (Dense)                     (None, 100, 64)      4160        ['MHA_Norm[0][0]']               \n",
            "                                                                                                  \n",
            " Dropout_Hidden (Dropout)       (None, 100, 64)      0           ['FF[0][0]']                     \n",
            "                                                                                                  \n",
            " FF_Add (Add)                   (None, 100, 64)      0           ['MHA_Norm[0][0]',               \n",
            "                                                                  'Dropout_Hidden[0][0]']         \n",
            "                                                                                                  \n",
            " FF_Norm (LayerNormalization)   (None, 100, 64)      128         ['FF_Add[0][0]']                 \n",
            "                                                                                                  \n",
            " Flatten (Flatten)              (None, 6400)         0           ['FF_Norm[0][0]']                \n",
            "                                                                                                  \n",
            " Predict (Dense)                (None, 1)            6401        ['Flatten[0][0]']                \n",
            "                                                                                                  \n",
            "==================================================================================================\n",
            "Total params: 1,711,745\n",
            "Trainable params: 1,711,745\n",
            "Non-trainable params: 0\n",
            "__________________________________________________________________________________________________\n"
          ]
        }
      ],
      "source": [
        "model.summary()"
      ]
    },
    {
      "cell_type": "code",
      "execution_count": null,
      "metadata": {
        "colab": {
          "base_uri": "https://localhost:8080/",
          "height": 100
        },
        "id": "1StlHKQ2SxBF",
        "outputId": "3ae0c0da-afd5-481b-9c86-399bb210002d"
      },
      "outputs": [
        {
          "data": {
            "image/png": "[encoded data removed]",
            "text/plain": [
              "<IPython.core.display.Image object>"
            ]
          },
          "execution_count": 10,
          "metadata": {},
          "output_type": "execute_result"
        }
      ],
      "source": [
        "tf.keras.utils.plot_model(model, rankdir='LR')"
      ]
    },
    {
      "cell_type": "code",
      "execution_count": null,
      "metadata": {
        "id": "hdETsK29WAEh"
      },
      "outputs": [],
      "source": [
        "model.compile(\n",
        "    loss='binary_crossentropy',\n",
        "    optimizer=tf.keras.optimizers.Adam(learning_rate=0.001),\n",
        "    metrics=['accuracy']\n",
        ")"
      ]
    },
    {
      "cell_type": "code",
      "execution_count": null,
      "metadata": {
        "colab": {
          "base_uri": "https://localhost:8080/"
        },
        "id": "1xcIdXw_WRqM",
        "outputId": "4c49fa7d-f357-41dc-a412-1bdf7b2116dd"
      },
      "outputs": [
        {
          "name": "stdout",
          "output_type": "stream",
          "text": [
            "Epoch 1/10\n",
            "157/157 [==============================] - 40s 194ms/step - loss: 0.7349 - accuracy: 0.5688 - val_loss: 0.4694 - val_accuracy: 0.7830\n",
            "Epoch 2/10\n",
            "157/157 [==============================] - 22s 142ms/step - loss: 0.2483 - accuracy: 0.8990 - val_loss: 0.3509 - val_accuracy: 0.8483\n",
            "Epoch 3/10\n",
            "157/157 [==============================] - 21s 131ms/step - loss: 0.0750 - accuracy: 0.9776 - val_loss: 0.3652 - val_accuracy: 0.8544\n",
            "Epoch 4/10\n",
            "157/157 [==============================] - 20s 131ms/step - loss: 0.0312 - accuracy: 0.9940 - val_loss: 0.4245 - val_accuracy: 0.8442\n",
            "Epoch 5/10\n",
            "157/157 [==============================] - 20s 126ms/step - loss: 0.0136 - accuracy: 0.9981 - val_loss: 0.4542 - val_accuracy: 0.8548\n",
            "Epoch 6/10\n",
            "157/157 [==============================] - 19s 119ms/step - loss: 0.0068 - accuracy: 0.9992 - val_loss: 0.4906 - val_accuracy: 0.8505\n",
            "Epoch 7/10\n",
            "157/157 [==============================] - 19s 124ms/step - loss: 0.0044 - accuracy: 0.9993 - val_loss: 0.5443 - val_accuracy: 0.8527\n",
            "Epoch 8/10\n",
            "157/157 [==============================] - 20s 128ms/step - loss: 0.0030 - accuracy: 0.9995 - val_loss: 0.5741 - val_accuracy: 0.8530\n",
            "Epoch 9/10\n",
            "157/157 [==============================] - 21s 134ms/step - loss: 0.0022 - accuracy: 0.9995 - val_loss: 0.5817 - val_accuracy: 0.8538\n",
            "Epoch 10/10\n",
            "157/157 [==============================] - 20s 129ms/step - loss: 0.0016 - accuracy: 0.9998 - val_loss: 0.6566 - val_accuracy: 0.8505\n"
          ]
        }
      ],
      "source": [
        "num_epochs = 10\n",
        "history = model.fit(\n",
        "    training_padded, \n",
        "    training_labels, \n",
        "    epochs=num_epochs, \n",
        "    batch_size=batch_size,\n",
        "    validation_data=(testing_padded, testing_labels)\n",
        ")"
      ]
    },
    {
      "cell_type": "code",
      "execution_count": null,
      "metadata": {
        "colab": {
          "base_uri": "https://localhost:8080/"
        },
        "id": "YG0X0mehMKjr",
        "outputId": "8f9a2cae-fb25-4a99-da19-cd8efe037e24"
      },
      "outputs": [
        {
          "data": {
            "text/plain": [
              "0.8548218607902527"
            ]
          },
          "execution_count": 13,
          "metadata": {},
          "output_type": "execute_result"
        }
      ],
      "source": [
        "max(history.history['val_accuracy'])"
      ]
    },
    {
      "cell_type": "markdown",
      "metadata": {
        "id": "Ipoo8FPD5IJR"
      },
      "source": [
        "Not bad for randomly choosing hyperparameters. The 'embeddings averaging' model only produced validation set accuracy that reached ~82%."
      ]
    },
    {
      "cell_type": "markdown",
      "metadata": {
        "id": "uNnHyC94u8TL"
      },
      "source": [
        "# Learn Hyperparameters using Bayesian Optimization\n",
        "This is a complex model which, even on a Google Colab GPU, is costly (time consuming) to train. We don't want to simply guess, or use grid search, or random search - we would like to treat this as a Multi-Armed Bandit problem and balance the Exploration-Exploitation dilemma with some algorithmic efficiency.\n",
        "\n",
        "https://github.com/fmfn/BayesianOptimization\n",
        "\n",
        "\n",
        "Note that we will use a new technique: https://www.tensorflow.org/api_docs/python/tf/keras/callbacks/EarlyStopping"
      ]
    },
    {
      "cell_type": "code",
      "execution_count": null,
      "metadata": {
        "id": "jtBfekp1Gwx9"
      },
      "outputs": [],
      "source": [
        "def train_and_eval(embedding_dim, att_heads, key_dim, dropout, batch_size):\n",
        "    embedding_dim = int(embedding_dim)\n",
        "    att_heads = int(att_heads)\n",
        "    key_dim = int(key_dim)\n",
        "    dropout = dropout\n",
        "    batch_size = int(batch_size)\n",
        "\n",
        "    input = tf.keras.Input(shape=max_length, name=\"Input\")\n",
        "    emb = tf.keras.layers.Embedding(\n",
        "        vocab_size, \n",
        "        embedding_dim, \n",
        "        input_length=max_length,\n",
        "        name='Embedding')(input)\n",
        "    mhsa = tf.keras.layers.MultiHeadAttention(\n",
        "        num_heads=att_heads, \n",
        "        key_dim=key_dim,\n",
        "        name='MHA'\n",
        "    )\n",
        "    attn_out = mhsa(\n",
        "        query=emb,\n",
        "        value=emb,\n",
        "        key=emb\n",
        "    )\n",
        "    attn_out = tf.keras.layers.Add(name='MHA_Add')([emb, attn_out])\n",
        "    attn_ln = tf.keras.layers.LayerNormalization(name='MHA_Norm')(attn_out)\n",
        "    dl = tf.keras.layers.Dense(embedding_dim, activation='relu', name=\"FF\")(attn_ln)\n",
        "    dl = tf.keras.layers.Dropout(dropout, name='Dropout_Hidden')(dl)\n",
        "    dl_out = tf.keras.layers.Add(name='FF_Add')([attn_ln, dl])\n",
        "    dl_ln = tf.keras.layers.LayerNormalization(name='FF_Norm')(dl_out)\n",
        "    fltn = tf.keras.layers.Flatten(name='Flatten')(dl_ln)\n",
        "    output = tf.keras.layers.Dense(1, activation='sigmoid', name='Predict')(fltn)\n",
        "\n",
        "    model = tf.keras.Model(inputs=input, outputs=output, name=\"My_Model\")\n",
        "\n",
        "    model.compile(\n",
        "        loss='binary_crossentropy',\n",
        "        optimizer='adam',\n",
        "        metrics=['accuracy']\n",
        "    )\n",
        "    ### NEW\n",
        "    callback = tf.keras.callbacks.EarlyStopping(\n",
        "        monitor='val_accuracy',\n",
        "        mode='max',\n",
        "        patience=2,\n",
        "        restore_best_weights=True\n",
        "    )\n",
        "\n",
        "    history = model.fit(\n",
        "        training_padded, \n",
        "        training_labels, \n",
        "        epochs=num_epochs, \n",
        "        batch_size=batch_size,\n",
        "        validation_data=(testing_padded, testing_labels),\n",
        "        callbacks=[callback], ### NEW\n",
        "        verbose=0\n",
        "    )\n",
        "\n",
        "    del model\n",
        "\n",
        "    return max(history.history['val_accuracy'])"
      ]
    },
    {
      "cell_type": "code",
      "execution_count": null,
      "metadata": {
        "colab": {
          "base_uri": "https://localhost:8080/"
        },
        "id": "h9zsWqY0qgJD",
        "outputId": "ca9102ab-7763-4ec2-ee08-e3c94f3e0a24"
      },
      "outputs": [
        {
          "name": "stdout",
          "output_type": "stream",
          "text": [
            "Looking in indexes: https://pypi.org/simple, https://us-python.pkg.dev/colab-wheels/public/simple/\n",
            "Collecting bayesian_optimization\n",
            "  Downloading bayesian_optimization-1.4.2-py3-none-any.whl (17 kB)\n",
            "Requirement already satisfied: numpy>=1.9.0 in /usr/local/lib/python3.9/dist-packages (from bayesian_optimization) (1.22.4)\n",
            "Collecting colorama>=0.4.6\n",
            "  Downloading colorama-0.4.6-py2.py3-none-any.whl (25 kB)\n",
            "Requirement already satisfied: scikit-learn>=0.18.0 in /usr/local/lib/python3.9/dist-packages (from bayesian_optimization) (1.2.2)\n",
            "Requirement already satisfied: scipy>=1.0.0 in /usr/local/lib/python3.9/dist-packages (from bayesian_optimization) (1.10.1)\n",
            "Requirement already satisfied: threadpoolctl>=2.0.0 in /usr/local/lib/python3.9/dist-packages (from scikit-learn>=0.18.0->bayesian_optimization) (3.1.0)\n",
            "Requirement already satisfied: joblib>=1.1.1 in /usr/local/lib/python3.9/dist-packages (from scikit-learn>=0.18.0->bayesian_optimization) (1.2.0)\n",
            "Installing collected packages: colorama, bayesian_optimization\n",
            "Successfully installed bayesian_optimization-1.4.2 colorama-0.4.6\n"
          ]
        }
      ],
      "source": [
        "!pip install bayesian_optimization"
      ]
    },
    {
      "cell_type": "code",
      "execution_count": null,
      "metadata": {
        "id": "LQoddB45v0jB"
      },
      "outputs": [],
      "source": [
        "from bayes_opt import BayesianOptimization\n",
        "from bayes_opt import UtilityFunction"
      ]
    },
    {
      "cell_type": "markdown",
      "metadata": {
        "id": "v2_GY-rKPVh8"
      },
      "source": [
        "# Your work here:"
      ]
    },
    {
      "cell_type": "code",
      "execution_count": null,
      "metadata": {
        "colab": {
          "background_save": true,
          "base_uri": "https://localhost:8080/"
        },
        "id": "eKmQPGSRPXu9",
        "outputId": "5d5d6474-fb36-4829-963e-c63e1649b1e0"
      },
      "outputs": [
        {
          "name": "stdout",
          "output_type": "stream",
          "text": [
            "Looking in indexes: https://pypi.org/simple, https://us-python.pkg.dev/colab-wheels/public/simple/\n",
            "Collecting scipy==1.7\n",
            "  Downloading scipy-1.7.0-cp39-cp39-manylinux_2_5_x86_64.manylinux1_x86_64.whl (28.4 MB)\n",
            "\u001b[2K     \u001b[90m━━━━━━━━━━━━━━━━━━━━━━━━━━━━━━━━━━━━━━━━\u001b[0m \u001b[32m28.4/28.4 MB\u001b[0m \u001b[31m53.8 MB/s\u001b[0m eta \u001b[36m0:00:00\u001b[0m\n",
            "\u001b[?25hRequirement already satisfied: numpy<1.23.0,>=1.16.5 in /usr/local/lib/python3.9/dist-packages (from scipy==1.7) (1.22.4)\n",
            "Installing collected packages: scipy\n",
            "  Attempting uninstall: scipy\n",
            "    Found existing installation: scipy 1.10.1\n",
            "    Uninstalling scipy-1.10.1:\n",
            "      Successfully uninstalled scipy-1.10.1\n",
            "\u001b[31mERROR: pip's dependency resolver does not currently take into account all the packages that are installed. This behaviour is the source of the following dependency conflicts.\n",
            "arviz 0.15.1 requires scipy>=1.8.0, but you have scipy 1.7.0 which is incompatible.\u001b[0m\u001b[31m\n",
            "\u001b[0mSuccessfully installed scipy-1.7.0\n",
            "Optimal hyperparameters: {'att_heads': 3.3105758842086095, 'batch_size': 27.32253192559942, 'dropout': 0.24275431741947268, 'embedding_dim': 278.05676049223155, 'key_dim': 81.56526405543964}\n",
            "Validation set accuracy: 0.8633179068565369\n"
          ]
        }
      ],
      "source": [
        "!pip install scipy==1.7\n",
        "from typing import Dict, Any\n",
        "\n",
        "# Define the range of values for each hyperparameter\n",
        "pbounds: Dict[str, Any] = {\n",
        "    'embedding_dim': (50, 300),\n",
        "    'att_heads': (2, 10),\n",
        "    'key_dim': (10, 100),\n",
        "    'dropout': (0.1, 0.7),\n",
        "    'batch_size': (16, 128)\n",
        "}\n",
        "\n",
        "# Define the evaluation function for neural network performance\n",
        "def evaluate_model(embedding_dim: int, att_heads: int, key_dim: int, dropout: float, batch_size: int) -> float:\n",
        "    \"\"\"\n",
        "    Function to train and evaluate a neural network with the given hyperparameters.\n",
        "    Returns the validation set accuracy.\n",
        "    \"\"\"\n",
        "    return train_and_eval(embedding_dim, att_heads, key_dim, dropout, batch_size)\n",
        "\n",
        "# Initialize the Bayesian Optimization algorithm\n",
        "optimizer = BayesianOptimization(\n",
        "    f=evaluate_model,\n",
        "    pbounds=pbounds,\n",
        "    random_state=42,\n",
        ")\n",
        "\n",
        "# Initialize the utility function (UCB acquisition function)\n",
        "utility = UtilityFunction(kind=\"ucb\", kappa=2.5, xi=0.0)\n",
        "\n",
        "# Run the Bayesian Optimization procedure for at least 20 iterations\n",
        "num_iterations = 20\n",
        "for i in range(num_iterations):\n",
        "    # Select the next set of hyperparameters to evaluate\n",
        "    next_params = optimizer.suggest(utility)\n",
        "    # Evaluate the neural network performance using the selected hyperparameters\n",
        "    f_val = evaluate_model(**next_params)\n",
        "    # Update the optimizer with the new evaluation\n",
        "    optimizer.register(\n",
        "        params=next_params,\n",
        "        target=f_val,\n",
        "    )\n",
        "\n",
        "# Get the optimal combination of hyperparameters and the result produced in terms of validation set accuracy\n",
        "optimal_params = optimizer.max['params']\n",
        "optimal_val_accuracy = optimizer.max['target']\n",
        "print(\"Optimal hyperparameters:\", optimal_params)\n",
        "print(\"Validation set accuracy:\", optimal_val_accuracy)\n"
      ]
    }
  ],
  "metadata": {
    "accelerator": "GPU",
    "colab": {
      "provenance": [],
      "include_colab_link": true
    },
    "gpuClass": "premium",
    "kernelspec": {
      "display_name": "Python 3",
      "name": "python3"
    },
    "language_info": {
      "name": "python"
    }
  },
  "nbformat": 4,
  "nbformat_minor": 0
}